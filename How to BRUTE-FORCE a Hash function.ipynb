{
 "cells": [
  {
   "cell_type": "markdown",
   "metadata": {},
   "source": [
    "## How to BRUTE-FORCE a Hash function\n",
    "### *Md. Abrar Jahin*\n",
    "#### 2nd year, Khulna University of Engineering and Technology\n",
    "To be a good Hash Function H(x), where y is the Hash value:\n",
    "1. H must be efficient to compute\n",
    "2. H must be deterministic\n",
    "3. y must be random looking\n",
    "4. H must be resistant to forgery\n",
    "   * It should be very time consuming to find collisions\n",
    "   * y should depend in every bit of the origin"
   ]
  },
  {
   "cell_type": "markdown",
   "metadata": {},
   "source": [
    "Using the standard library hashlib module I computed the MD5, SHA1 and SHA256 (that's SHA2 with a hash size of  n=256 ) of the string \"Hello, world!\""
   ]
  },
  {
   "cell_type": "code",
   "execution_count": 100,
   "metadata": {},
   "outputs": [
    {
     "name": "stdout",
     "output_type": "stream",
     "text": [
      "6cd3556deb0da54bca060b4c39479839\n",
      "943a702d06f34599aee1f8da8ef9f7296031d699\n",
      "315f5bdb76d078c43b8ac0064e4a0164612b1fce77c869345bfc94c75894edd3\n"
     ]
    }
   ],
   "source": [
    "import hashlib\n",
    "\n",
    "md=hashlib.md5()\n",
    "\n",
    "md.update(b\"Hello, world!\")\n",
    "\n",
    "sha1=hashlib.sha1()\n",
    "\n",
    "sha1.update(b\"Hello, world!\")\n",
    "\n",
    "sha2= hashlib.sha256()\n",
    "\n",
    "sha2.update(b\"Hello, world!\")\n",
    "\n",
    "print(md.hexdigest())\n",
    "\n",
    "print(sha1.hexdigest())\n",
    "\n",
    "print(sha2.hexdigest())\n"
   ]
  },
  {
   "cell_type": "markdown",
   "metadata": {},
   "source": [
    "I implemented a hash function `simple_hash` that given a string `s`, computes its hash as follows: it starts with r = 7, and for every character in the string, multiplies r by 31, adds that character to r, and keeps everything modulo  216 ."
   ]
  },
  {
   "cell_type": "code",
   "execution_count": 101,
   "metadata": {},
   "outputs": [],
   "source": [
    "def simple_hash(s):\n",
    "    r = 7\n",
    "    for c in s:\n",
    "        r = (r * 31 + ord(c)) % 2**16\n",
    "    return r"
   ]
  },
  {
   "cell_type": "markdown",
   "metadata": {},
   "source": [
    "I'll now Brute-force the hash function that I've just written in the above cell!\n",
    "\n",
    "I've implemented a function `crack` that given a string s, loops until it finds a different string that collides with it, and returns the different string."
   ]
  },
  {
   "cell_type": "code",
   "execution_count": 102,
   "metadata": {},
   "outputs": [
    {
     "name": "stdout",
     "output_type": "stream",
     "text": [
      "myph\n"
     ]
    }
   ],
   "source": [
    "import random\n",
    "import string\n",
    "\n",
    "def get_random_string(length):\n",
    "    letters = string.ascii_lowercase\n",
    "    return ''.join(random.choice(letters) for i in range(length))\n",
    "def crack(s):\n",
    "    hash1=simple_hash(s)\n",
    "\n",
    "    for i in range(10*2**16):\n",
    "        s2 = get_random_string(4) # log(2^16)/log(26) ~ 4\n",
    "        if simple_hash(s2)==hash1:\n",
    "            break\n",
    "\n",
    "    # print(i)\n",
    "    return s2    # return s2 such that s != s2 and simple_hash(s) == simple_hash(s2)\n",
    "\n",
    "print(crack('hello'))\n"
   ]
  },
  {
   "cell_type": "markdown",
   "metadata": {},
   "source": [
    "The function `weak_md5` is a \"weaker\" version of MD5, using only the first 5 bytes of the MD5 hash. This means its hashing size is  n=40  and it can be brute forced rather easily.\n",
    "\n",
    "I implemented a function `find_collisions` that loops over all the possible strings until it finds an arbitrary collision - that is, two different strings whose hash is the same - and returns them (as a tuple)."
   ]
  },
  {
   "cell_type": "code",
   "execution_count": 103,
   "metadata": {},
   "outputs": [],
   "source": [
    "import hashlib\n",
    "import itertools \n",
    "from itertools import product \n",
    "import string\n",
    "\n",
    "def weak_md5(s):\n",
    "    return hashlib.md5(s).digest()[:5]\n",
    "\n",
    "\n",
    "def find_collisions():\n",
    "    chars = string.ascii_letters + '1234567890' \n",
    "    d = {}  \n",
    "    for i in range(40): \n",
    "        generator = itertools.product(chars, repeat = i) \n",
    "    for password in generator: \n",
    "        password = ''.join(password)\n",
    "        h1 = weak_md5(password.encode('utf-8')) \n",
    "        if h1 not in d: \n",
    "            d[h1] = password \n",
    "        else: \n",
    "            return (password, d[h1])\n",
    "     # return (s1, s2) such that s1 != s2 and weak_md5(s1) == weak_md5(s2)"
   ]
  },
  {
   "cell_type": "markdown",
   "metadata": {},
   "source": [
    "To see how hard it is to brute force a real hash function, I tried running the function that I wrote in the previous cell, but using the full MD5. "
   ]
  },
  {
   "cell_type": "code",
   "execution_count": 104,
   "metadata": {},
   "outputs": [],
   "source": [
    "import hashlib\n",
    "\n",
    "\n",
    "def md5(s):\n",
    "    return hashlib.md5(s).digest()\n",
    "\n",
    "\n",
    "def find_collisions():\n",
    "    chars = string.ascii_letters + '1234567890' \n",
    "    d = {}  \n",
    "    for i in range(40): \n",
    "        generator = itertools.product(chars, repeat = i) \n",
    "    for password in generator: \n",
    "        password = ''.join(password)\n",
    "        h1 = weak_md5(password.encode('utf-8')) \n",
    "        if h1 not in d: \n",
    "            d[h1] = password \n",
    "        else: \n",
    "            return (password, d[h1])"
   ]
  }
 ],
 "metadata": {
  "kernelspec": {
   "display_name": "Python 3",
   "language": "python",
   "name": "python3"
  },
  "language_info": {
   "codemirror_mode": {
    "name": "ipython",
    "version": 3
   },
   "file_extension": ".py",
   "mimetype": "text/x-python",
   "name": "python",
   "nbconvert_exporter": "python",
   "pygments_lexer": "ipython3",
   "version": "3.7.6"
  }
 },
 "nbformat": 4,
 "nbformat_minor": 4
}
